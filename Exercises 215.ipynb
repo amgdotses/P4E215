{
 "cells": [
  {
   "cell_type": "code",
   "execution_count": 1,
   "id": "7808eeeb",
   "metadata": {},
   "outputs": [],
   "source": [
    "# 2.15 Exercises"
   ]
  },
  {
   "cell_type": "code",
   "execution_count": 2,
   "id": "61488056",
   "metadata": {},
   "outputs": [
    {
     "name": "stdout",
     "output_type": "stream",
     "text": [
      "Enter your name Dorothy\n",
      "Hello Dorothy\n"
     ]
    }
   ],
   "source": [
    "# Exercise 2\n",
    "name = input('Enter your name ') # It is pausing for user input\n",
    "print('Hello', name)"
   ]
  },
  {
   "cell_type": "code",
   "execution_count": 4,
   "id": "8b041881",
   "metadata": {},
   "outputs": [
    {
     "name": "stdout",
     "output_type": "stream",
     "text": [
      "Hours Worked35\n",
      "Rate of Pay7.20\n",
      "252\n"
     ]
    }
   ],
   "source": [
    "# Exercise 3\n",
    "# We are turning a str into a float here\n",
    "hours = float (input ('Hours Worked'))\n",
    "rate = float (input ('Rate of Pay'))\n",
    "pay = int (hours * rate)\n",
    "print(pay)"
   ]
  },
  {
   "cell_type": "code",
   "execution_count": 5,
   "id": "2853a1ea",
   "metadata": {},
   "outputs": [],
   "source": [
    "# Exercise 4\n",
    "width = 17\n",
    "height = 12.0"
   ]
  },
  {
   "cell_type": "code",
   "execution_count": 7,
   "id": "94a32dfa",
   "metadata": {},
   "outputs": [
    {
     "data": {
      "text/plain": [
       "8"
      ]
     },
     "execution_count": 7,
     "metadata": {},
     "output_type": "execute_result"
    }
   ],
   "source": [
    "width//2"
   ]
  },
  {
   "cell_type": "code",
   "execution_count": 8,
   "id": "e694a107",
   "metadata": {},
   "outputs": [
    {
     "data": {
      "text/plain": [
       "8.5"
      ]
     },
     "execution_count": 8,
     "metadata": {},
     "output_type": "execute_result"
    }
   ],
   "source": [
    "width/2.0"
   ]
  },
  {
   "cell_type": "code",
   "execution_count": 9,
   "id": "b471eed7",
   "metadata": {},
   "outputs": [
    {
     "data": {
      "text/plain": [
       "4.0"
      ]
     },
     "execution_count": 9,
     "metadata": {},
     "output_type": "execute_result"
    }
   ],
   "source": [
    "height / 3"
   ]
  },
  {
   "cell_type": "code",
   "execution_count": 10,
   "id": "6ea44aee",
   "metadata": {},
   "outputs": [
    {
     "data": {
      "text/plain": [
       "11"
      ]
     },
     "execution_count": 10,
     "metadata": {},
     "output_type": "execute_result"
    }
   ],
   "source": [
    "1+2*5"
   ]
  },
  {
   "cell_type": "code",
   "execution_count": 13,
   "id": "602d3d24",
   "metadata": {},
   "outputs": [
    {
     "name": "stdout",
     "output_type": "stream",
     "text": [
      "Please enter your temperature in C12\n",
      "53.6\n"
     ]
    }
   ],
   "source": [
    "# Exercise 5\n",
    "celsius = float(input ('Please enter your temperature in C'))\n",
    "fahren = (celsius * 9/5) + 32\n",
    "print(fahren)\n"
   ]
  },
  {
   "cell_type": "code",
   "execution_count": null,
   "id": "20572ad7",
   "metadata": {},
   "outputs": [],
   "source": []
  }
 ],
 "metadata": {
  "kernelspec": {
   "display_name": "Python 3 (ipykernel)",
   "language": "python",
   "name": "python3"
  },
  "language_info": {
   "codemirror_mode": {
    "name": "ipython",
    "version": 3
   },
   "file_extension": ".py",
   "mimetype": "text/x-python",
   "name": "python",
   "nbconvert_exporter": "python",
   "pygments_lexer": "ipython3",
   "version": "3.10.9"
  }
 },
 "nbformat": 4,
 "nbformat_minor": 5
}
